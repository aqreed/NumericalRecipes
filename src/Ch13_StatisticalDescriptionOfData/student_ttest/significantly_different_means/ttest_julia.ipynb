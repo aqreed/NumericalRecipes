{
 "cells": [
  {
   "cell_type": "markdown",
   "metadata": {},
   "source": [
    "# Student's t-test for significantly different means in Julia"
   ]
  },
  {
   "cell_type": "code",
   "execution_count": 1,
   "metadata": {},
   "outputs": [],
   "source": [
    "using BenchmarkTools\n",
    "\n",
    "# Import Julia functions\n",
    "include(\"../../avevar/avevar.jl\")\n",
    "using .mod_avevar: avevar\n",
    "\n",
    "include(\"../lib_stat/lib_stat.jl\")\n",
    "using .lib_stat: betai\n",
    "\n",
    "# Compile Fortran source code (using a Python script)\n",
    "run(`python ../lib_stat/compile_fortran.py`);"
   ]
  },
  {
   "cell_type": "markdown",
   "metadata": {},
   "source": [
    "Data input:"
   ]
  },
  {
   "cell_type": "code",
   "execution_count": 2,
   "metadata": {},
   "outputs": [],
   "source": [
    "data1 = [1, 2, 3, 4, 5, 6, 7, 8, 9]\n",
    "data2 = [1.1, 2, 3, 4, 5, 6, 7, 8, 9];"
   ]
  },
  {
   "cell_type": "markdown",
   "metadata": {},
   "source": [
    "Function definition:"
   ]
  },
  {
   "cell_type": "code",
   "execution_count": 3,
   "metadata": {},
   "outputs": [],
   "source": [
    "function ttest(data1, data2)\n",
    "    # Given the arrays \"data1\" and \"data2\", returns the\n",
    "    # Student's \"t\" and its significance as \"prob\".\n",
    "    # Data are assumed to be drawn from populations with\n",
    "    # the same true variance.\n",
    "    \n",
    "    # Small values of \"prob\" indicates that the arrays \n",
    "    # have different means.\n",
    "    n1 = length(data1)\n",
    "    n2 = length(data2)\n",
    "    \n",
    "    ave1, var1 = avevar(data1)\n",
    "    ave2, var2 = avevar(data2)\n",
    "\n",
    "    # print(ave1, ave2)\n",
    "    # print(var1, var2)\n",
    "\n",
    "    # degrees of freedom\n",
    "    df = n1 + n2 - 2\n",
    "    # pooled variance\n",
    "    var = ((n1 - 1) * var1 + (n2 - 1) * var2) / df\n",
    "    # Student's t\n",
    "    t = (ave1 - ave2) / sqrt(var * (1/n1 + 1/n2))\n",
    "    # significance\n",
    "    prob = betai(0.5 * df, 0.5, df/(df + t^2))\n",
    "    \n",
    "    return t, prob\n",
    "end;"
   ]
  },
  {
   "cell_type": "markdown",
   "metadata": {},
   "source": [
    "#### Calling the Julia ttest function:"
   ]
  },
  {
   "cell_type": "code",
   "execution_count": 4,
   "metadata": {},
   "outputs": [
    {
     "name": "stdout",
     "output_type": "stream",
     "text": [
      "-0.008635140708713388 0.9932169925849851"
     ]
    }
   ],
   "source": [
    "t, prob = ttest(data1, data2)\n",
    "\n",
    "print(t, \" \",prob)"
   ]
  },
  {
   "cell_type": "markdown",
   "metadata": {},
   "source": [
    "#### Calling the Fortran ttest function:"
   ]
  },
  {
   "cell_type": "code",
   "execution_count": 5,
   "metadata": {},
   "outputs": [
    {
     "name": "stdout",
     "output_type": "stream",
     "text": [
      "  -8.6351407087133878E-003  0.99321699258498508     \n"
     ]
    }
   ],
   "source": [
    "run(`../lib_stat/fmain_ttest`);"
   ]
  },
  {
   "cell_type": "markdown",
   "metadata": {},
   "source": [
    "# Timing against Fortran:\n",
    "\n",
    "Test function in **Julia** and timing:"
   ]
  },
  {
   "cell_type": "code",
   "execution_count": 6,
   "metadata": {},
   "outputs": [
    {
     "name": "stdout",
     "output_type": "stream",
     "text": [
      "  404.315 μs (4000 allocations: 406.25 KiB)\n"
     ]
    }
   ],
   "source": [
    "function speed_test()\n",
    "    for i = 1:1e3\n",
    "        ttest(data1, data2)\n",
    "        end\n",
    "    end;\n",
    "\n",
    "@btime speed_test()"
   ]
  },
  {
   "cell_type": "markdown",
   "metadata": {},
   "source": [
    "Timing in **Fortran**:"
   ]
  },
  {
   "cell_type": "code",
   "execution_count": 7,
   "metadata": {},
   "outputs": [
    {
     "name": "stdout",
     "output_type": "stream",
     "text": [
      "  1.625 ms (46 allocations: 1.84 KiB)\n"
     ]
    }
   ],
   "source": [
    "@btime run(`../lib_stat/fspeed_ttest`);"
   ]
  }
 ],
 "metadata": {
  "kernelspec": {
   "display_name": "Julia 1.1.0",
   "language": "julia",
   "name": "julia-1.1"
  },
  "language_info": {
   "file_extension": ".jl",
   "mimetype": "application/julia",
   "name": "julia",
   "version": "1.1.0"
  }
 },
 "nbformat": 4,
 "nbformat_minor": 2
}
