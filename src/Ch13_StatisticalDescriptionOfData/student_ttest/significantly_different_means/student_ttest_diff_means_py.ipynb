{
 "cells": [
  {
   "cell_type": "markdown",
   "metadata": {},
   "source": [
    "# Student's t-test for significantly different means in Python:"
   ]
  },
  {
   "cell_type": "code",
   "execution_count": 1,
   "metadata": {},
   "outputs": [],
   "source": [
    "import numpy as np\n",
    "import timeit\n",
    "import subprocess\n",
    "import sys\n",
    "import os\n",
    "\n",
    "\n",
    "# Import Python functions from lib\n",
    "sys.path.insert(0, '../lib_stat')\n",
    "from lib_stat import avevar, betai\n",
    "\n",
    "# Compile fortran source code (using a Python script)\n",
    "os.system('python ../lib_stat/compile_fortran.py')\n",
    "\n",
    "data1 = np.array([1, 2, 3, 4, 5, 6, 7, 8, 9])\n",
    "data2 = np.array([1.1, 2, 3, 4, 5, 6, 7, 8, 9])"
   ]
  },
  {
   "cell_type": "markdown",
   "metadata": {},
   "source": [
    "Function definition:"
   ]
  },
  {
   "cell_type": "code",
   "execution_count": 2,
   "metadata": {},
   "outputs": [],
   "source": [
    "def ttest(data1, data2):\n",
    "    # Given the arrays \"data1\" and \"data2\", returns the\n",
    "    # Student's \"t\" and its significance as \"prob\".\n",
    "    # Data are assumed to be drawn from populations with\n",
    "    # the same true variance.\n",
    "    # Small values of \"prob\" indicates that the arrays \n",
    "    # have different means.\n",
    "    n1 = len(data1)\n",
    "    n2 = len(data2)\n",
    "    \n",
    "    ave1, var1 = avevar(data1)\n",
    "    ave2, var2 = avevar(data2)\n",
    "\n",
    "    # print(ave1, ave2)\n",
    "    # print(var1, var2)\n",
    "\n",
    "    # degrees of freedom\n",
    "    df = n1 + n2 - 2.\n",
    "    # pooled variance\n",
    "    var = ((n1 - 1.) * var1 + (n2 - 1) * var2) / df\n",
    "    # Student's t\n",
    "    t = (ave1 - ave2) / np.sqrt(var * (1/n1 + 1/n2))\n",
    "    # significance\n",
    "    prob = betai(0.5 * df, 0.5, df/(df + t**2))\n",
    "    \n",
    "    return t, prob"
   ]
  },
  {
   "cell_type": "markdown",
   "metadata": {},
   "source": [
    "### Calling the ttest function in Python:"
   ]
  },
  {
   "cell_type": "code",
   "execution_count": 3,
   "metadata": {},
   "outputs": [
    {
     "name": "stdout",
     "output_type": "stream",
     "text": [
      "-0.008635140708713388 0.9932169925849851\n"
     ]
    }
   ],
   "source": [
    "t, prob = ttest(data1, data2)\n",
    "\n",
    "print(t, prob)"
   ]
  },
  {
   "cell_type": "markdown",
   "metadata": {},
   "source": [
    "## Timing against Fortran:\n",
    "\n",
    "Test function:"
   ]
  },
  {
   "cell_type": "code",
   "execution_count": 4,
   "metadata": {},
   "outputs": [],
   "source": [
    "def test():\n",
    "    for i in range(1000):\n",
    "        ttest(data1, data2)"
   ]
  },
  {
   "cell_type": "markdown",
   "metadata": {},
   "source": [
    "#### Python:"
   ]
  },
  {
   "cell_type": "code",
   "execution_count": 5,
   "metadata": {},
   "outputs": [
    {
     "name": "stdout",
     "output_type": "stream",
     "text": [
      "14.9 ms ± 60.2 µs per loop (mean ± std. dev. of 7 runs, 100 loops each)\n"
     ]
    }
   ],
   "source": [
    "%timeit test()"
   ]
  },
  {
   "cell_type": "markdown",
   "metadata": {},
   "source": [
    "#### Fortran:"
   ]
  },
  {
   "cell_type": "code",
   "execution_count": 6,
   "metadata": {},
   "outputs": [
    {
     "name": "stdout",
     "output_type": "stream",
     "text": [
      "5.43 ms ± 53.5 µs per loop (mean ± std. dev. of 7 runs, 100 loops each)\n"
     ]
    }
   ],
   "source": [
    "%timeit subprocess.call(['../lib_stat/fmain_ttest'])"
   ]
  }
 ],
 "metadata": {
  "kernelspec": {
   "display_name": "Python 3",
   "language": "python",
   "name": "python3"
  },
  "language_info": {
   "codemirror_mode": {
    "name": "ipython",
    "version": 3
   },
   "file_extension": ".py",
   "mimetype": "text/x-python",
   "name": "python",
   "nbconvert_exporter": "python",
   "pygments_lexer": "ipython3",
   "version": "3.6.8"
  }
 },
 "nbformat": 4,
 "nbformat_minor": 2
}
