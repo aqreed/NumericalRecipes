{
 "cells": [
  {
   "cell_type": "markdown",
   "metadata": {},
   "source": [
    "# Student's t-test for significantly different means in Python"
   ]
  },
  {
   "cell_type": "code",
   "execution_count": 1,
   "metadata": {},
   "outputs": [],
   "source": [
    "import numpy as np\n",
    "import timeit\n",
    "import sys\n",
    "import os\n",
    "from subprocess import call, check_output\n",
    "\n",
    "\n",
    "owd = os.getcwd()  # save for later\n",
    "\n",
    "# Import Python functions\n",
    "sys.path.append(os.path.realpath('../../avevar'))\n",
    "from avevar import avevar\n",
    "\n",
    "sys.path.append(os.path.realpath('../../../Ch6_SpecialFunctions/betai'))\n",
    "from betai import betai\n",
    "\n",
    "# Compile Fortran source code (using a Python script)\n",
    "os.system('python compile_fortran.py')\n",
    "\n",
    "os.chdir(owd)"
   ]
  },
  {
   "cell_type": "markdown",
   "metadata": {},
   "source": [
    "Data input:"
   ]
  },
  {
   "cell_type": "code",
   "execution_count": 2,
   "metadata": {},
   "outputs": [],
   "source": [
    "data1 = np.array([1, 2, 3, 4, 5, 6, 7, 8, 9])\n",
    "data2 = np.array([1.1, 2, 3, 4, 5, 6, 7, 8, 9])"
   ]
  },
  {
   "cell_type": "markdown",
   "metadata": {},
   "source": [
    "Function definition:"
   ]
  },
  {
   "cell_type": "code",
   "execution_count": 3,
   "metadata": {},
   "outputs": [],
   "source": [
    "def ttest(data1, data2):\n",
    "    # Given the arrays \"data1\" and \"data2\", returns the\n",
    "    # Student's \"t\" and its significance as \"prob\".\n",
    "    # Data are assumed to be drawn from populations with\n",
    "    # the same true variance.\n",
    "    # Small values of \"prob\" indicates that the arrays \n",
    "    # have different means.\n",
    "    n1 = len(data1)\n",
    "    n2 = len(data2)\n",
    "    \n",
    "    ave1, var1 = avevar(data1)\n",
    "    ave2, var2 = avevar(data2)\n",
    "\n",
    "    # print(ave1, ave2)\n",
    "    # print(var1, var2)\n",
    "\n",
    "    # degrees of freedom\n",
    "    df = n1 + n2 - 2.\n",
    "    # pooled variance\n",
    "    var = ((n1 - 1.) * var1 + (n2 - 1) * var2) / df\n",
    "    # Student's t\n",
    "    t = (ave1 - ave2) / np.sqrt(var * (1/n1 + 1/n2))\n",
    "    # significance\n",
    "    prob = betai(0.5 * df, 0.5, df/(df + t**2))\n",
    "    \n",
    "    return t, prob"
   ]
  },
  {
   "cell_type": "markdown",
   "metadata": {},
   "source": [
    "#### Calling the Python ttest function:"
   ]
  },
  {
   "cell_type": "code",
   "execution_count": 4,
   "metadata": {},
   "outputs": [
    {
     "name": "stdout",
     "output_type": "stream",
     "text": [
      "-0.008635140708713388 0.9932169925849851\n"
     ]
    }
   ],
   "source": [
    "t, prob = ttest(data1, data2)\n",
    "\n",
    "print(t, prob)"
   ]
  },
  {
   "cell_type": "markdown",
   "metadata": {},
   "source": [
    "#### Calling the Fortran ttest function:"
   ]
  },
  {
   "cell_type": "code",
   "execution_count": 5,
   "metadata": {},
   "outputs": [
    {
     "data": {
      "text/plain": [
       "[-0.008635140708713388, 0.9932169925849851]"
      ]
     },
     "execution_count": 5,
     "metadata": {},
     "output_type": "execute_result"
    }
   ],
   "source": [
    "fortranOutput = check_output('./fmain_ttest').decode(\"utf-8\").replace('\\n','').split(' ')\n",
    "[float(i) for i in fortranOutput if i]"
   ]
  },
  {
   "cell_type": "markdown",
   "metadata": {},
   "source": [
    "# Timing against Fortran:\n",
    "\n",
    "Test function in **Python** and timing:"
   ]
  },
  {
   "cell_type": "code",
   "execution_count": 6,
   "metadata": {},
   "outputs": [
    {
     "name": "stdout",
     "output_type": "stream",
     "text": [
      "15.4 ms ± 285 µs per loop (mean ± std. dev. of 7 runs, 100 loops each)\n"
     ]
    }
   ],
   "source": [
    "def speed_test():\n",
    "    for i in range(1000):\n",
    "        ttest(data1, data2)\n",
    "        \n",
    "%timeit speed_test()"
   ]
  },
  {
   "cell_type": "markdown",
   "metadata": {},
   "source": [
    "Timing in **Fortran**:"
   ]
  },
  {
   "cell_type": "code",
   "execution_count": 7,
   "metadata": {},
   "outputs": [
    {
     "name": "stdout",
     "output_type": "stream",
     "text": [
      "5.35 ms ± 59.5 µs per loop (mean ± std. dev. of 7 runs, 100 loops each)\n"
     ]
    }
   ],
   "source": [
    "%timeit call(['./fspeed_ttest'])"
   ]
  }
 ],
 "metadata": {
  "kernelspec": {
   "display_name": "Python 3",
   "language": "python",
   "name": "python3"
  },
  "language_info": {
   "codemirror_mode": {
    "name": "ipython",
    "version": 3
   },
   "file_extension": ".py",
   "mimetype": "text/x-python",
   "name": "python",
   "nbconvert_exporter": "python",
   "pygments_lexer": "ipython3",
   "version": "3.7.1"
  }
 },
 "nbformat": 4,
 "nbformat_minor": 2
}
