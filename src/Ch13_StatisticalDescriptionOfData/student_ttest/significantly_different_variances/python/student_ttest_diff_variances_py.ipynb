{
 "cells": [
  {
   "cell_type": "markdown",
   "metadata": {},
   "source": [
    "# Student's t-test for significantly different means in Python:"
   ]
  },
  {
   "cell_type": "code",
   "execution_count": 1,
   "metadata": {},
   "outputs": [],
   "source": [
    "import numpy as np\n",
    "import sys\n",
    "import timeit\n",
    "import subprocess\n",
    "\n",
    "from numba import jit\n",
    "\n",
    "data1 = np.array([1, 2, 3, 4, 5, 6, 7, 8, 9])\n",
    "data2 = np.array([1.1, 2, 3, 4, 5, 6, 7, 8, 9])"
   ]
  },
  {
   "cell_type": "markdown",
   "metadata": {},
   "source": [
    "Functions definition:"
   ]
  },
  {
   "cell_type": "code",
   "execution_count": 2,
   "metadata": {},
   "outputs": [],
   "source": [
    "@jit(nopython=True)\n",
    "def avevar(data):\n",
    "    # Given an array \"data\" of length \"n\", returns\n",
    "    # its mean \"ave\" and its variance \"var\"\n",
    "    n = len(data)\n",
    "    ave, var = 0, 0\n",
    "    \n",
    "    # Mean\n",
    "    for i in range(n):\n",
    "        ave =  ave + data[i]\n",
    "        \n",
    "    ave = ave / n\n",
    "    \n",
    "    # Variance (of a sample population)\n",
    "    for i in range(len(data)):\n",
    "        s = data[i] - ave\n",
    "        var =  var + s**2\n",
    "        \n",
    "    var = var / (n - 1)\n",
    "    \n",
    "    return ave, var"
   ]
  },
  {
   "cell_type": "code",
   "execution_count": 3,
   "metadata": {},
   "outputs": [],
   "source": [
    "@jit(nopython=True)\n",
    "def gammaln(xx):\n",
    "    # Returns the value of ln[gamma(XX)] for X > 0. \n",
    "    # Full accuracy is obtained for XX > 1. \n",
    "    cof = np.array([76.18009173, -86.50532033, 24.01409822, \n",
    "                    -1.231739516, 0.120858003e-2, -0.536382e-5])\n",
    "    stp = 2.50662827465\n",
    "    \n",
    "    x = xx - 1.0\n",
    "    tmp = x + 5.5\n",
    "    tmp = (x + 0.5) * np.log(tmp) - tmp\n",
    "    ser = 1.0\n",
    "\n",
    "    for i in range(len(cof)):\n",
    "        x = x + 1\n",
    "        ser = ser + cof[i] / (x)\n",
    "\n",
    "    gammaln = tmp + np.log(stp * ser)\n",
    "    return gammaln"
   ]
  },
  {
   "cell_type": "code",
   "execution_count": 4,
   "metadata": {},
   "outputs": [],
   "source": [
    "def betacf(a, b, x):\n",
    "    # Continued fraction for incomplete beta function, \n",
    "    # used by \"betai\"  \n",
    "    eps = 3.0e-7\n",
    "    imax = 100\n",
    "\n",
    "    am = 1\n",
    "    bm = 1\n",
    "    az = 1\n",
    "    qab = a + b\n",
    "    qap = a + 1\n",
    "    qam = a - 1\n",
    "    bz = 1. - (qab * x) / qap\n",
    "\n",
    "    # continued fraction evaluation using recurrence\n",
    "    for m in range(1, imax):\n",
    "        em = m\n",
    "        tem = em + em\n",
    "        d = (em * (b - m) * x) / ((qam + tem) * (a + tem))\n",
    "        ap = az + d * am\n",
    "        bp = bz + d * bm\n",
    "        d = -((a + em) * (qab + em) * x) / ((a + tem) * (qap + tem))\n",
    "        app = ap + d * az\n",
    "        bpp = bp + d * bz\n",
    "        aold = az\n",
    "        am = ap / app\n",
    "        bm = bp / bpp\n",
    "        az = app / bpp\n",
    "        bz = 1.0\n",
    "\n",
    "        if (abs(az - aold) < eps * abs(az)):\n",
    "            # print('BETACF: convergence OK')\n",
    "            break\n",
    "\n",
    "        if (m == imax):\n",
    "            print('BETACF: a or b too big, or imax too small')\n",
    "            sys.exit()\n",
    "\n",
    "        betacf = az\n",
    "        return betacf"
   ]
  },
  {
   "cell_type": "code",
   "execution_count": 5,
   "metadata": {},
   "outputs": [],
   "source": [
    "def betai(a, b, x):\n",
    "    # Returns the incomplete beta function Ix(a, b)\n",
    "\n",
    "    if ((x < 0 ) or (x > 1)):\n",
    "        print('BETAI: bad argument fo x')\n",
    "        sys.exit()\n",
    "\n",
    "    # Factor \"bt\" in front of continued fraction\n",
    "    if ((x == 0 ) or (x == 1)):\n",
    "        bt = 0\n",
    "    else:\n",
    "        bt = np.exp(gammaln(a + b) - gammaln(a) - gammaln(b) + \\\n",
    "             a * np.log(x) + b * np.log(1 - x))\n",
    "\n",
    "    # Continued fraction\n",
    "    if (x < ((a + 1) / (a + b + 2))):\n",
    "        # ...directly\n",
    "        betai = bt * betacf(a, b, x) / a\n",
    "        return betai\n",
    "    else:\n",
    "        # ...after symmetry transformation\n",
    "        betai = 1 - bt * betacf(b, a, 1 - x) / b\n",
    "        return betai"
   ]
  },
  {
   "cell_type": "code",
   "execution_count": 6,
   "metadata": {},
   "outputs": [],
   "source": [
    "def tutest(data1, data2):\n",
    "    # Given the arrays \"data1\" and \"data2\", returns the\n",
    "    # Student's \"t\" and its significance as \"prob\".\n",
    "    # Data are assumed to be drawn from populations with\n",
    "    # the same true variance.\n",
    "    \n",
    "    # Small values of \"prob\" indicates that the arrays \n",
    "    # have different means.\n",
    "    n1 = len(data1)\n",
    "    n2 = len(data2)\n",
    "    \n",
    "    ave1, var1 = avevar(data1)\n",
    "    ave2, var2 = avevar(data2)\n",
    "\n",
    "    # print(ave1, ave2)\n",
    "    # print(var1, var2)\n",
    "    \n",
    "    # Student's t\n",
    "    t = (ave1 - ave2) / np.sqrt(var1/n1 + var2/n2)\n",
    "\n",
    "    df = (var1/n1 + var2/n2)**2 / ((var1/n1)**2 / (n1 - 1) + (var2/n2)**2 / (n2 - 1))\n",
    "    # significance\n",
    "    prob = betai(0.5 * df, 0.5, df/(df + t**2))\n",
    "    \n",
    "    return t, prob"
   ]
  },
  {
   "cell_type": "markdown",
   "metadata": {},
   "source": [
    "### Calling the ttest function in Python:"
   ]
  },
  {
   "cell_type": "code",
   "execution_count": 7,
   "metadata": {},
   "outputs": [
    {
     "name": "stdout",
     "output_type": "stream",
     "text": [
      "-0.008635140708713388 0.9932169972438553\n"
     ]
    }
   ],
   "source": [
    "t, prob = tutest(data1, data2)\n",
    "\n",
    "print(t, prob)"
   ]
  },
  {
   "cell_type": "markdown",
   "metadata": {},
   "source": [
    "## Timing against Fortran:\n",
    "\n",
    "Test function:"
   ]
  },
  {
   "cell_type": "code",
   "execution_count": 8,
   "metadata": {},
   "outputs": [],
   "source": [
    "def test():\n",
    "    for i in range(1000):\n",
    "        tutest(data1, data2)"
   ]
  },
  {
   "cell_type": "markdown",
   "metadata": {},
   "source": [
    "#### Python:"
   ]
  },
  {
   "cell_type": "code",
   "execution_count": 9,
   "metadata": {},
   "outputs": [
    {
     "name": "stdout",
     "output_type": "stream",
     "text": [
      "16.2 ms ± 376 µs per loop (mean ± std. dev. of 7 runs, 100 loops each)\n"
     ]
    }
   ],
   "source": [
    "%timeit test()"
   ]
  },
  {
   "cell_type": "markdown",
   "metadata": {},
   "source": [
    "#### Fortran:"
   ]
  },
  {
   "cell_type": "code",
   "execution_count": 10,
   "metadata": {},
   "outputs": [
    {
     "name": "stdout",
     "output_type": "stream",
     "text": [
      "4.8 ms ± 147 µs per loop (mean ± std. dev. of 7 runs, 100 loops each)\n"
     ]
    }
   ],
   "source": [
    "%timeit subprocess.call(['../fortran/tutest'])"
   ]
  }
 ],
 "metadata": {
  "kernelspec": {
   "display_name": "Python 3",
   "language": "python",
   "name": "python3"
  },
  "language_info": {
   "codemirror_mode": {
    "name": "ipython",
    "version": 3
   },
   "file_extension": ".py",
   "mimetype": "text/x-python",
   "name": "python",
   "nbconvert_exporter": "python",
   "pygments_lexer": "ipython3",
   "version": "3.6.4"
  }
 },
 "nbformat": 4,
 "nbformat_minor": 2
}
