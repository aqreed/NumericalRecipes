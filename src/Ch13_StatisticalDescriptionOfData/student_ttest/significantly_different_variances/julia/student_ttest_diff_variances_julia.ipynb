{
 "cells": [
  {
   "cell_type": "markdown",
   "metadata": {},
   "source": [
    "# Student's t-test for significantly different variances in Julia:"
   ]
  },
  {
   "cell_type": "code",
   "execution_count": 1,
   "metadata": {},
   "outputs": [],
   "source": [
    "using BenchmarkTools\n",
    "\n",
    "data1 = [1, 2, 3, 4, 5, 6, 7, 8, 9]\n",
    "data2 = [1.1, 2, 3, 4, 5, 6, 7, 8, 9];"
   ]
  },
  {
   "cell_type": "markdown",
   "metadata": {},
   "source": [
    "Functions definition:"
   ]
  },
  {
   "cell_type": "code",
   "execution_count": 2,
   "metadata": {},
   "outputs": [],
   "source": [
    "function avevar(data)\n",
    "    # Given an array \"data\" of length \"n\", returns\n",
    "    # its mean \"ave\" and its variance \"var\"\n",
    "    n = length(data)\n",
    "    ave = 0\n",
    "    var = 0\n",
    "    \n",
    "    # Mean\n",
    "    for i = 1:n\n",
    "        ave =  ave + data[i]\n",
    "    end\n",
    "    \n",
    "    ave = ave / n\n",
    "    \n",
    "    # Variance (of a sample population)\n",
    "    for i = 1:n\n",
    "        s = data[i] - ave\n",
    "        var =  var + s^2\n",
    "    end\n",
    "        \n",
    "    var = var / (n - 1)\n",
    "    \n",
    "    return ave, var\n",
    "end;"
   ]
  },
  {
   "cell_type": "code",
   "execution_count": 3,
   "metadata": {},
   "outputs": [],
   "source": [
    "function gammaln(xx)\n",
    "    # Returns the value of ln[gamma(XX)] for X > 0. \n",
    "    # Full accuracy is obtained for XX > 1. \n",
    "    cof = [76.18009173, -86.50532033, 24.01409822, \n",
    "           -1.231739516, 0.120858003e-2, -0.536382e-5]\n",
    "    stp = 2.50662827465\n",
    "    \n",
    "    x = xx - 1.0\n",
    "    tmp = x + 5.5\n",
    "    tmp = (x + 0.5) * log(tmp) - tmp\n",
    "    ser = 1.0\n",
    "\n",
    "    for i = 1:length(cof)\n",
    "        x = x + 1\n",
    "        ser = ser + cof[i] / (x)\n",
    "    end\n",
    "\n",
    "    gammaln = tmp + log(stp * ser)\n",
    "    return gammaln\n",
    "end;"
   ]
  },
  {
   "cell_type": "code",
   "execution_count": 4,
   "metadata": {},
   "outputs": [],
   "source": [
    "function betacf(a, b, x)\n",
    "    # Continued fraction for incomplete beta function, \n",
    "    # used by \"betai\"  \n",
    "    eps = 3.0e-7\n",
    "    imax = 100\n",
    "\n",
    "    am = 1\n",
    "    bm = 1\n",
    "    az = 1\n",
    "    qab = a + b\n",
    "    qap = a + 1\n",
    "    qam = a - 1\n",
    "    bz = 1 - (qab * x) / qap\n",
    "\n",
    "    # continued fraction evaluation using recurrence\n",
    "    for m = 1:imax\n",
    "        em = m\n",
    "        tem = em + em\n",
    "        d = (em * (b - m) * x) / ((qam + tem) * (a + tem))\n",
    "        ap = az + d * am\n",
    "        bp = bz + d * bm\n",
    "        d = -((a + em) * (qab + em) * x) / ((a + tem) * (qap + tem))\n",
    "        app = ap + d * az\n",
    "        bpp = bp + d * bz\n",
    "        aold = az\n",
    "        am = ap / bpp\n",
    "        bm = bp / bpp\n",
    "        az = app / bpp\n",
    "        bz = 1.0\n",
    "\n",
    "        if (abs(az - aold) < eps * abs(az))\n",
    "            # print('BETACF: convergence OK')\n",
    "            break\n",
    "        end\n",
    "\n",
    "        if (m == imax)\n",
    "            error(\"BETACF: a or b too big, or imax too small\")\n",
    "        end\n",
    "    end\n",
    "\n",
    "    betacf = az\n",
    "    return betacf\n",
    "end;"
   ]
  },
  {
   "cell_type": "code",
   "execution_count": 5,
   "metadata": {},
   "outputs": [],
   "source": [
    "function betai(a, b, x)\n",
    "    # Returns the incomplete beta function Ix(a, b)\n",
    "\n",
    "    if ((x < 0) || (x > 1))\n",
    "        error(\"BETAI: bad argument for x\")\n",
    "    end\n",
    "\n",
    "    # Factor \"bt\" in front of continued fraction\n",
    "    if ((x == 0 ) || (x == 1))\n",
    "        bt = 0\n",
    "    else\n",
    "        bt = exp(gammaln(a + b) - gammaln(a) - gammaln(b) + a * log(x) + b * log(1 - x))\n",
    "    end\n",
    "    \n",
    "    # Continued fraction\n",
    "    if (x < ((a + 1) / (a + b + 2)))\n",
    "        # ...directly\n",
    "        betai = bt * betacf(a, b, x) / a\n",
    "        return betai\n",
    "    else\n",
    "        # ...after symmetry transformation\n",
    "        betai = 1 - bt * betacf(b, a, 1 - x) / b\n",
    "        return betai\n",
    "    end\n",
    "end;"
   ]
  },
  {
   "cell_type": "code",
   "execution_count": 6,
   "metadata": {},
   "outputs": [],
   "source": [
    "function tutest(data1, data2)\n",
    "    # Given the arrays \"data1\" and \"data2\", returns the\n",
    "    # Student's \"t\" and its significance as \"prob\".\n",
    "    # Data are assumed to be drawn from populations with\n",
    "    # the same true variance.\n",
    "\n",
    "    # Small values of \"prob\" indicates that the arrays \n",
    "    # have different means.\n",
    "    n1 = length(data1)\n",
    "    n2 = length(data2)\n",
    "    \n",
    "    ave1, var1 = avevar(data1)\n",
    "    ave2, var2 = avevar(data2)\n",
    "\n",
    "    # print(ave1, ave2)\n",
    "    # print(var1, var2)\n",
    "\n",
    "    # Student's t\n",
    "    t = (ave1 - ave2) / sqrt(var1/n1 + var2/n2)\n",
    "\n",
    "    df = (var1/n1 + var2/n2)^2 / ((var1/n1)^2 / (n1 - 1) + (var2/n2)^2 / (n2 - 1))\n",
    "    # significance\n",
    "    prob = betai(0.5 * df, 0.5, df/(df + t^2))\n",
    "    \n",
    "    return t, prob\n",
    "end;"
   ]
  },
  {
   "cell_type": "markdown",
   "metadata": {},
   "source": [
    "### Calling the ttest function in Julia:"
   ]
  },
  {
   "cell_type": "code",
   "execution_count": 7,
   "metadata": {},
   "outputs": [
    {
     "name": "stdout",
     "output_type": "stream",
     "text": [
      "-0.008635140708713388 0.9932169972438553"
     ]
    }
   ],
   "source": [
    "t, prob = tutest(data1, data2)\n",
    "\n",
    "print(t, \" \", prob)"
   ]
  },
  {
   "cell_type": "markdown",
   "metadata": {},
   "source": [
    "## Timing against Fortran:\n",
    "\n",
    "Test function:"
   ]
  },
  {
   "cell_type": "code",
   "execution_count": 8,
   "metadata": {},
   "outputs": [],
   "source": [
    "function test()\n",
    "    for i = 1:1e3\n",
    "        tutest(data1, data2)\n",
    "        end\n",
    "    end;"
   ]
  },
  {
   "cell_type": "markdown",
   "metadata": {},
   "source": [
    "#### Julia:"
   ]
  },
  {
   "cell_type": "code",
   "execution_count": 9,
   "metadata": {},
   "outputs": [
    {
     "name": "stdout",
     "output_type": "stream",
     "text": [
      "  399.619 μs (4000 allocations: 406.25 KiB)\n"
     ]
    }
   ],
   "source": [
    "@btime test()"
   ]
  },
  {
   "cell_type": "markdown",
   "metadata": {},
   "source": [
    "#### Fortran:"
   ]
  },
  {
   "cell_type": "code",
   "execution_count": 10,
   "metadata": {},
   "outputs": [
    {
     "name": "stdout",
     "output_type": "stream",
     "text": [
      "  1.657 ms (46 allocations: 1.84 KiB)\n"
     ]
    }
   ],
   "source": [
    "@btime run(`../fortran/fmain_tutest`);"
   ]
  }
 ],
 "metadata": {
  "kernelspec": {
   "display_name": "Julia 1.1.0",
   "language": "julia",
   "name": "julia-1.1"
  },
  "language_info": {
   "file_extension": ".jl",
   "mimetype": "application/julia",
   "name": "julia",
   "version": "1.1.0"
  }
 },
 "nbformat": 4,
 "nbformat_minor": 2
}
