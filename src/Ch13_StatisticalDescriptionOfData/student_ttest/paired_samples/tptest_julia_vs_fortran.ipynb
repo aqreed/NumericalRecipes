{
 "cells": [
  {
   "cell_type": "markdown",
   "metadata": {},
   "source": [
    "# Student's t-test for paired samples in Julia"
   ]
  },
  {
   "cell_type": "code",
   "execution_count": 1,
   "metadata": {},
   "outputs": [
    {
     "data": {
      "text/plain": [
       "Process(`\u001b[4mpython\u001b[24m \u001b[4m../lib_stat/compile_fortran.py\u001b[24m`, ProcessExited(0))"
      ]
     },
     "execution_count": 1,
     "metadata": {},
     "output_type": "execute_result"
    }
   ],
   "source": [
    "using BenchmarkTools\n",
    "\n",
    "# Import Julia functions from lib\n",
    "include(\"../lib_stat/lib_stat.jl\")\n",
    "using .lib_stat: avevar, betai\n",
    "\n",
    "# Compile fortran source code (using a Python script)\n",
    "run(`python ../lib_stat/compile_fortran.py`)"
   ]
  },
  {
   "cell_type": "markdown",
   "metadata": {},
   "source": [
    "Data input:"
   ]
  },
  {
   "cell_type": "code",
   "execution_count": 2,
   "metadata": {},
   "outputs": [],
   "source": [
    "data1 = [70.0, 71.0, 72.0, 73.0, 70.5]\n",
    "data2 = [70.15, 71.05, 71.95, 72.85, 70.45];"
   ]
  },
  {
   "cell_type": "markdown",
   "metadata": {},
   "source": [
    "Function definition:"
   ]
  },
  {
   "cell_type": "code",
   "execution_count": 3,
   "metadata": {},
   "outputs": [],
   "source": [
    "function tptest(data1, data2)\n",
    "    # Given the arrays \"data1\" and \"data2\" of length \"n\", returns\n",
    "    # the Student's \"t\" for paired data and its significance as \"prob\".\n",
    "\n",
    "    # Small values of \"prob\" indicates that the arrays have different\n",
    "    # means.\n",
    "\n",
    "    n1 = length(data1)\n",
    "    n2 = length(data2)\n",
    "  \n",
    "    if (n1 != n2)\n",
    "        print(\"Data arrays must have the same size\")\n",
    "    else\n",
    "        n = n1\n",
    "    end\n",
    "\n",
    "    ave1, var1 = avevar(data1)\n",
    "    ave2, var2 = avevar(data2)\n",
    "\n",
    "    cov = 0.0\n",
    "    for i = 1:n\n",
    "      cov = cov + (data1[i] - ave1) * (data2[i] - ave2)\n",
    "    end\n",
    "\n",
    "    df = n - 1.0\n",
    "    cov = cov / df\n",
    "\n",
    "    # Student's t\n",
    "    t = (ave1 - ave2) / sqrt((var1 + var2 - 2.0 * cov) / n)\n",
    "\n",
    "    # significance\n",
    "    prob = betai(0.5 * df, 0.5, df/(df + t^2))\n",
    "    return t, prob\n",
    "end;"
   ]
  },
  {
   "cell_type": "markdown",
   "metadata": {},
   "source": [
    "#### Calling the Julia tutest function:"
   ]
  },
  {
   "cell_type": "code",
   "execution_count": 4,
   "metadata": {},
   "outputs": [
    {
     "name": "stdout",
     "output_type": "stream",
     "text": [
      "0.1961161351382784 0.8540797033791304"
     ]
    }
   ],
   "source": [
    "t, prob = tptest(data1, data2)\n",
    "\n",
    "print(t, \" \",prob)"
   ]
  },
  {
   "cell_type": "markdown",
   "metadata": {},
   "source": [
    "#### Calling the Fortran tutest function:"
   ]
  },
  {
   "cell_type": "code",
   "execution_count": 5,
   "metadata": {},
   "outputs": [
    {
     "name": "stdout",
     "output_type": "stream",
     "text": [
      "  0.19611613513827841       0.85407970337913042     \n"
     ]
    }
   ],
   "source": [
    "run(`../lib_stat/fmain_tptest`);"
   ]
  },
  {
   "cell_type": "markdown",
   "metadata": {},
   "source": [
    "# Timing against Fortran:\n",
    "\n",
    "Test function in **Julia** and timing:"
   ]
  },
  {
   "cell_type": "code",
   "execution_count": 6,
   "metadata": {},
   "outputs": [
    {
     "name": "stdout",
     "output_type": "stream",
     "text": [
      "  383.930 μs (4000 allocations: 406.25 KiB)\n"
     ]
    }
   ],
   "source": [
    "function speed_test()\n",
    "    for i = 1:1e3\n",
    "        tptest(data1, data2)\n",
    "        end\n",
    "    end;\n",
    "\n",
    "@btime speed_test()"
   ]
  },
  {
   "cell_type": "markdown",
   "metadata": {},
   "source": [
    "Timing in **Fortran**:"
   ]
  },
  {
   "cell_type": "code",
   "execution_count": 7,
   "metadata": {},
   "outputs": [
    {
     "name": "stdout",
     "output_type": "stream",
     "text": [
      "  1.553 ms (46 allocations: 1.84 KiB)\n"
     ]
    }
   ],
   "source": [
    "@btime run(`../lib_stat/fspeed_tptest`);"
   ]
  }
 ],
 "metadata": {
  "kernelspec": {
   "display_name": "Julia 1.1.0",
   "language": "julia",
   "name": "julia-1.1"
  },
  "language_info": {
   "file_extension": ".jl",
   "mimetype": "application/julia",
   "name": "julia",
   "version": "1.1.0"
  }
 },
 "nbformat": 4,
 "nbformat_minor": 2
}
