{
 "cells": [
  {
   "cell_type": "markdown",
   "metadata": {},
   "source": [
    "# Student's t-test for paired samples in Python"
   ]
  },
  {
   "cell_type": "code",
   "execution_count": 1,
   "metadata": {},
   "outputs": [],
   "source": [
    "import numpy as np\n",
    "import timeit\n",
    "import sys\n",
    "import os\n",
    "from subprocess import call, check_output\n",
    "\n",
    "# Import Python functions from lib\n",
    "sys.path.insert(0, '../lib_stat')\n",
    "from lib_stat import avevar, betai\n",
    "\n",
    "# Compile fortran source code (using a Python script)\n",
    "os.system('python ../lib_stat/compile_fortran.py');"
   ]
  },
  {
   "cell_type": "markdown",
   "metadata": {},
   "source": [
    "Data input:"
   ]
  },
  {
   "cell_type": "code",
   "execution_count": 2,
   "metadata": {},
   "outputs": [],
   "source": [
    "data1 = np.array([70.0, 71.0, 72.0, 73.0, 70.5])\n",
    "data2 = np.array([70.15, 71.05, 71.95, 72.85, 70.45])"
   ]
  },
  {
   "cell_type": "markdown",
   "metadata": {},
   "source": [
    "Function definition:"
   ]
  },
  {
   "cell_type": "code",
   "execution_count": 3,
   "metadata": {},
   "outputs": [],
   "source": [
    "def tptest(data1, data2):\n",
    "    # Given the arrays \"data1\" and \"data2\" of length \"n\", returns\n",
    "    # the Student's \"t\" for paired data and its significance as \"prob\".\n",
    "\n",
    "    # Small values of \"prob\" indicates that the arrays have different\n",
    "    # means.\n",
    "\n",
    "    n1 = len(data1)\n",
    "    n2 = len(data2)\n",
    "  \n",
    "    if (n1 != n2):\n",
    "        print(\"Data arrays must have the same size\")\n",
    "    else:\n",
    "        n = n1\n",
    "\n",
    "    ave1, var1 = avevar(data1)\n",
    "    ave2, var2 = avevar(data2)\n",
    "\n",
    "    cov = 0.0\n",
    "    for i in range(n):\n",
    "        cov = cov + (data1[i] - ave1) * (data2[i] - ave2)\n",
    "\n",
    "    df = n - 1.0\n",
    "    cov = cov / df\n",
    "\n",
    "    # Student's t\n",
    "    t = (ave1 - ave2) / np.sqrt((var1 + var2 - 2.0 * cov) / n)\n",
    "\n",
    "    # significance\n",
    "    prob = betai(0.5 * df, 0.5, df/(df + t**2))\n",
    "    \n",
    "    return t, prob"
   ]
  },
  {
   "cell_type": "markdown",
   "metadata": {},
   "source": [
    "#### Calling the Python tptest function:"
   ]
  },
  {
   "cell_type": "code",
   "execution_count": 4,
   "metadata": {},
   "outputs": [
    {
     "name": "stdout",
     "output_type": "stream",
     "text": [
      "0.1961161351382784 0.8540797033791303\n"
     ]
    }
   ],
   "source": [
    "t, prob = tptest(data1, data2)\n",
    "\n",
    "print(t, prob)"
   ]
  },
  {
   "cell_type": "markdown",
   "metadata": {},
   "source": [
    "#### Calling the Fortran tptest function:"
   ]
  },
  {
   "cell_type": "code",
   "execution_count": 5,
   "metadata": {},
   "outputs": [
    {
     "data": {
      "text/plain": [
       "[0.1961161351382784, 0.8540797033791304]"
      ]
     },
     "execution_count": 5,
     "metadata": {},
     "output_type": "execute_result"
    }
   ],
   "source": [
    "fortranOutput = check_output('../lib_stat/fmain_tptest').decode(\"utf-8\").replace('\\n','').split(' ')\n",
    "[float(i) for i in fortranOutput if i]"
   ]
  },
  {
   "cell_type": "markdown",
   "metadata": {},
   "source": [
    "# Timing against Fortran:\n",
    "\n",
    "Test function in **Python** and timing:"
   ]
  },
  {
   "cell_type": "code",
   "execution_count": 6,
   "metadata": {},
   "outputs": [
    {
     "name": "stdout",
     "output_type": "stream",
     "text": [
      "19.9 ms ± 266 µs per loop (mean ± std. dev. of 7 runs, 10 loops each)\n"
     ]
    }
   ],
   "source": [
    "def speed_test():\n",
    "    for i in range(1000):\n",
    "        tptest(data1, data2)\n",
    "        \n",
    "%timeit speed_test()"
   ]
  },
  {
   "cell_type": "markdown",
   "metadata": {},
   "source": [
    "Timing in **Fortran**:"
   ]
  },
  {
   "cell_type": "code",
   "execution_count": 7,
   "metadata": {},
   "outputs": [
    {
     "name": "stdout",
     "output_type": "stream",
     "text": [
      "5.63 ms ± 483 µs per loop (mean ± std. dev. of 7 runs, 100 loops each)\n"
     ]
    }
   ],
   "source": [
    "%timeit call(['../lib_stat/fspeed_tptest'])"
   ]
  }
 ],
 "metadata": {
  "kernelspec": {
   "display_name": "Python 3",
   "language": "python",
   "name": "python3"
  },
  "language_info": {
   "codemirror_mode": {
    "name": "ipython",
    "version": 3
   },
   "file_extension": ".py",
   "mimetype": "text/x-python",
   "name": "python",
   "nbconvert_exporter": "python",
   "pygments_lexer": "ipython3",
   "version": "3.6.8"
  }
 },
 "nbformat": 4,
 "nbformat_minor": 2
}
