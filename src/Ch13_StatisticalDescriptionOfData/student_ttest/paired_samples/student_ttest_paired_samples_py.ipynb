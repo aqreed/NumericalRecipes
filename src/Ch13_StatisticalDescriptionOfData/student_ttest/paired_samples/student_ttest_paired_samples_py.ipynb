{
 "cells": [
  {
   "cell_type": "markdown",
   "metadata": {},
   "source": [
    "# Student's t-test for paired samples in Python:"
   ]
  },
  {
   "cell_type": "code",
   "execution_count": 1,
   "metadata": {},
   "outputs": [],
   "source": [
    "import numpy as np\n",
    "import sys\n",
    "import timeit\n",
    "import subprocess\n",
    "\n",
    "from numba import jit\n",
    "\n",
    "data1 = np.array([70.0, 71.0, 72.0, 73.0, 70.5])\n",
    "data2 = np.array([70.15, 71.05, 71.95, 72.85, 70.45])"
   ]
  },
  {
   "cell_type": "markdown",
   "metadata": {},
   "source": [
    "Functions definition:"
   ]
  },
  {
   "cell_type": "code",
   "execution_count": 2,
   "metadata": {},
   "outputs": [],
   "source": [
    "@jit(nopython=True)\n",
    "def avevar(data):\n",
    "    # Given an array \"data\" of length \"n\", returns\n",
    "    # its mean \"ave\" and its variance \"var\"\n",
    "    n = len(data)\n",
    "    ave, var = 0, 0\n",
    "    \n",
    "    # Mean\n",
    "    for i in range(n):\n",
    "        ave =  ave + data[i]\n",
    "        \n",
    "    ave = ave / n\n",
    "    \n",
    "    # Variance (of a sample population)\n",
    "    for i in range(len(data)):\n",
    "        s = data[i] - ave\n",
    "        var =  var + s**2\n",
    "        \n",
    "    var = var / (n - 1)\n",
    "    \n",
    "    return ave, var"
   ]
  },
  {
   "cell_type": "code",
   "execution_count": 3,
   "metadata": {},
   "outputs": [],
   "source": [
    "@jit(nopython=True)\n",
    "def gammaln(xx):\n",
    "    # Returns the value of ln[gamma(XX)] for X > 0. \n",
    "    # Full accuracy is obtained for XX > 1. \n",
    "    cof = np.array([76.18009173, -86.50532033, 24.01409822, \n",
    "                    -1.231739516, 0.120858003e-2, -0.536382e-5])\n",
    "    stp = 2.50662827465\n",
    "    \n",
    "    x = xx - 1.0\n",
    "    tmp = x + 5.5\n",
    "    tmp = (x + 0.5) * np.log(tmp) - tmp\n",
    "    ser = 1.0\n",
    "\n",
    "    for i in range(len(cof)):\n",
    "        x = x + 1\n",
    "        ser = ser + cof[i] / (x)\n",
    "\n",
    "    gammaln = tmp + np.log(stp * ser)\n",
    "    return gammaln"
   ]
  },
  {
   "cell_type": "code",
   "execution_count": 4,
   "metadata": {},
   "outputs": [],
   "source": [
    "def betacf(a, b, x):\n",
    "    # Continued fraction for incomplete beta function, \n",
    "    # used by \"betai\"  \n",
    "    eps = 3.0e-7\n",
    "    imax = 100\n",
    "\n",
    "    am = 1\n",
    "    bm = 1\n",
    "    az = 1\n",
    "    qab = a + b\n",
    "    qap = a + 1\n",
    "    qam = a - 1\n",
    "    bz = 1. - (qab * x) / qap\n",
    "\n",
    "    # continued fraction evaluation using recurrence\n",
    "    for m in range(1, imax):\n",
    "        em = m\n",
    "        tem = em + em\n",
    "        d = (em * (b - m) * x) / ((qam + tem) * (a + tem))\n",
    "        ap = az + d * am\n",
    "        bp = bz + d * bm\n",
    "        d = -((a + em) * (qab + em) * x) / ((a + tem) * (qap + tem))\n",
    "        app = ap + d * az\n",
    "        bpp = bp + d * bz\n",
    "        aold = az\n",
    "        am = ap / bpp\n",
    "        bm = bp / bpp\n",
    "        az = app / bpp\n",
    "        bz = 1.0\n",
    "\n",
    "        if (abs(az - aold) < eps * abs(az)):\n",
    "            # print('BETACF: convergence OK')\n",
    "            break\n",
    "\n",
    "        if (m == imax):\n",
    "            print('BETACF: a or b too big, or imax too small')\n",
    "            sys.exit()\n",
    "\n",
    "        betacf = az\n",
    "        return betacf"
   ]
  },
  {
   "cell_type": "code",
   "execution_count": 5,
   "metadata": {},
   "outputs": [],
   "source": [
    "def betai(a, b, x):\n",
    "    # Returns the incomplete beta function Ix(a, b)\n",
    "\n",
    "    if ((x < 0 ) or (x > 1)):\n",
    "        print('BETAI: bad argument fo x')\n",
    "        sys.exit()\n",
    "\n",
    "    # Factor \"bt\" in front of continued fraction\n",
    "    if ((x == 0 ) or (x == 1)):\n",
    "        bt = 0\n",
    "    else:\n",
    "        bt = np.exp(gammaln(a + b) - gammaln(a) - gammaln(b) + \\\n",
    "             a * np.log(x) + b * np.log(1 - x))\n",
    "\n",
    "    # Continued fraction\n",
    "    if (x < ((a + 1) / (a + b + 2))):\n",
    "        # ...directly\n",
    "        betai = bt * betacf(a, b, x) / a\n",
    "        return betai\n",
    "    else:\n",
    "        # ...after symmetry transformation\n",
    "        betai = 1 - bt * betacf(b, a, 1 - x) / b\n",
    "        return betai"
   ]
  },
  {
   "cell_type": "code",
   "execution_count": 6,
   "metadata": {},
   "outputs": [],
   "source": [
    "def tptest(data1, data2):\n",
    "    # Given the arrays \"data1\" and \"data2\" of length \"n\", returns\n",
    "    # the Student's \"t\" for paired data and its significance as \"prob\".\n",
    "\n",
    "    # Small values of \"prob\" indicates that the arrays have different\n",
    "    # means.\n",
    "\n",
    "    n1 = len(data1)\n",
    "    n2 = len(data2)\n",
    "  \n",
    "    if (n1 != n2):\n",
    "        print(\"Data arrays must have the same size\")\n",
    "    else:\n",
    "        n = n1\n",
    "\n",
    "    ave1, var1 = avevar(data1)\n",
    "    ave2, var2 = avevar(data2)\n",
    "\n",
    "    cov = 0.0\n",
    "    for i in range(n):\n",
    "        cov = cov + (data1[i] - ave1) * (data2[i] - ave2)\n",
    "\n",
    "    df = n - 1.0\n",
    "    cov = cov / df\n",
    "\n",
    "    # Student's t\n",
    "    t = (ave1 - ave2) / np.sqrt((var1 + var2 - 2.0 * cov) / n)\n",
    "\n",
    "    # significance\n",
    "    prob = betai(0.5 * df, 0.5, df/(df + t**2))\n",
    "    \n",
    "    return t, prob"
   ]
  },
  {
   "cell_type": "markdown",
   "metadata": {},
   "source": [
    "### Calling the ttest function in Python:"
   ]
  },
  {
   "cell_type": "code",
   "execution_count": 7,
   "metadata": {},
   "outputs": [
    {
     "name": "stdout",
     "output_type": "stream",
     "text": [
      "0.1961161351382784 0.8540797033791303\n"
     ]
    }
   ],
   "source": [
    "t, prob = tptest(data1, data2)\n",
    "\n",
    "print(t, prob)"
   ]
  },
  {
   "cell_type": "markdown",
   "metadata": {},
   "source": [
    "## Timing against Fortran:\n",
    "\n",
    "Test function:"
   ]
  },
  {
   "cell_type": "code",
   "execution_count": 8,
   "metadata": {},
   "outputs": [],
   "source": [
    "def test():\n",
    "    for i in range(1000):\n",
    "        tptest(data1, data2)"
   ]
  },
  {
   "cell_type": "markdown",
   "metadata": {},
   "source": [
    "#### Python:"
   ]
  },
  {
   "cell_type": "code",
   "execution_count": 9,
   "metadata": {},
   "outputs": [
    {
     "name": "stdout",
     "output_type": "stream",
     "text": [
      "24 ms ± 4.93 ms per loop (mean ± std. dev. of 7 runs, 10 loops each)\n"
     ]
    }
   ],
   "source": [
    "%timeit test()"
   ]
  },
  {
   "cell_type": "markdown",
   "metadata": {},
   "source": [
    "#### Fortran:"
   ]
  },
  {
   "cell_type": "code",
   "execution_count": 10,
   "metadata": {},
   "outputs": [
    {
     "name": "stdout",
     "output_type": "stream",
     "text": [
      "7 ms ± 591 µs per loop (mean ± std. dev. of 7 runs, 100 loops each)\n"
     ]
    }
   ],
   "source": [
    "%timeit subprocess.call(['./fmain_tptest'])"
   ]
  }
 ],
 "metadata": {
  "kernelspec": {
   "display_name": "Python 3",
   "language": "python",
   "name": "python3"
  },
  "language_info": {
   "codemirror_mode": {
    "name": "ipython",
    "version": 3
   },
   "file_extension": ".py",
   "mimetype": "text/x-python",
   "name": "python",
   "nbconvert_exporter": "python",
   "pygments_lexer": "ipython3",
   "version": "3.6.8"
  }
 },
 "nbformat": 4,
 "nbformat_minor": 2
}
