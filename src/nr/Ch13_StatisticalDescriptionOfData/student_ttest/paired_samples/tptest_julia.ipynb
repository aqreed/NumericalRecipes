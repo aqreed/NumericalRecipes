{
 "cells": [
  {
   "cell_type": "markdown",
   "metadata": {},
   "source": [
    "# Student's t-test for paired samples in Julia"
   ]
  },
  {
   "cell_type": "code",
   "execution_count": 1,
   "metadata": {},
   "outputs": [],
   "source": [
    "using BenchmarkTools\n",
    "\n",
    "# Import Julia functions\n",
    "include(\"./tptest.jl\")\n",
    "using .mod_tptest: tptest\n",
    "\n",
    "# Compile Fortran source code (using a Python script)\n",
    "run(`python compile_fortran.py`);"
   ]
  },
  {
   "cell_type": "markdown",
   "metadata": {},
   "source": [
    "Data input:"
   ]
  },
  {
   "cell_type": "code",
   "execution_count": 2,
   "metadata": {},
   "outputs": [],
   "source": [
    "data1 = [70.0, 71.0, 72.0, 73.0, 70.5]\n",
    "data2 = [70.15, 71.05, 71.95, 72.85, 70.45];"
   ]
  },
  {
   "cell_type": "markdown",
   "metadata": {},
   "source": [
    "## Calling and timing the Julia tutest function\n",
    "The testing functions is a simple `for loop`:"
   ]
  },
  {
   "cell_type": "code",
   "execution_count": 3,
   "metadata": {},
   "outputs": [
    {
     "name": "stdout",
     "output_type": "stream",
     "text": [
      "0.1961161351382784   0.8540797033791304     412.379 ms (4000000 allocations: 396.73 MiB)\n"
     ]
    }
   ],
   "source": [
    "function speed_test()\n",
    "    for i = 1:1e6\n",
    "        tptest(data1, data2)\n",
    "        end\n",
    "    end;\n",
    "\n",
    "t, prob = tptest(data1, data2)\n",
    "\n",
    "print(t, \"   \", prob, \"   \")\n",
    "@btime speed_test()"
   ]
  },
  {
   "cell_type": "markdown",
   "metadata": {},
   "source": [
    "## Calling and timing the Fortran tutest function\n",
    "The Fortran returns `t`, `prob` and the execution time (in seconds):"
   ]
  },
  {
   "cell_type": "code",
   "execution_count": 4,
   "metadata": {},
   "outputs": [
    {
     "name": "stdout",
     "output_type": "stream",
     "text": [
      "  0.19611613513827841       0.85407970337913042       0.60000002384185791     \n"
     ]
    }
   ],
   "source": [
    "run(`./fmain_tptest`);"
   ]
  }
 ],
 "metadata": {
  "kernelspec": {
   "display_name": "Julia 1.1.0",
   "language": "julia",
   "name": "julia-1.1"
  },
  "language_info": {
   "file_extension": ".jl",
   "mimetype": "application/julia",
   "name": "julia",
   "version": "1.1.0"
  }
 },
 "nbformat": 4,
 "nbformat_minor": 2
}
