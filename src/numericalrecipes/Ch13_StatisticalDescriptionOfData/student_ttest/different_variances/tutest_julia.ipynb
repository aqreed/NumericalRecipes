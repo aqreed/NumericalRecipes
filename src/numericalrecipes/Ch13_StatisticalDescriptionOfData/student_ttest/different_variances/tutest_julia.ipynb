{
 "cells": [
  {
   "cell_type": "markdown",
   "metadata": {},
   "source": [
    "# Student's t-test for significantly different variances in Julia"
   ]
  },
  {
   "cell_type": "code",
   "execution_count": 1,
   "metadata": {},
   "outputs": [],
   "source": [
    "using BenchmarkTools\n",
    "using NumericalRecipes\n",
    "\n",
    "# Compile Fortran source code (using a Python script)\n",
    "run(`python compile_fortran.py`);"
   ]
  },
  {
   "cell_type": "markdown",
   "metadata": {},
   "source": [
    "Data input:"
   ]
  },
  {
   "cell_type": "code",
   "execution_count": 2,
   "metadata": {},
   "outputs": [],
   "source": [
    "data1 = [1, 2, 3, 4, 5, 6, 7, 8, 9]\n",
    "data2 = [1.1, 2, 3, 4, 5, 6, 7, 8, 9];"
   ]
  },
  {
   "cell_type": "markdown",
   "metadata": {},
   "source": [
    "## Calling and timing the Julia tutest function\n",
    "The testing functions is a simple `for loop`:"
   ]
  },
  {
   "cell_type": "code",
   "execution_count": 3,
   "metadata": {},
   "outputs": [
    {
     "name": "stdout",
     "output_type": "stream",
     "text": [
      "-0.008635140708713388   0.9932169972438553     436.313 ms (4000000 allocations: 396.73 MiB)\n"
     ]
    }
   ],
   "source": [
    "function speed_test()\n",
    "    for i = 1:1e6\n",
    "        tutest(data1, data2)\n",
    "        end\n",
    "    end;\n",
    "\n",
    "t, prob = tutest(data1, data2)\n",
    "\n",
    "print(t, \"   \", prob, \"   \")\n",
    "@btime speed_test()"
   ]
  },
  {
   "cell_type": "markdown",
   "metadata": {},
   "source": [
    "## Calling and timing the Fortran tutest function\n",
    "The Fortran returns `t`, `prob` and the execution time (in seconds):"
   ]
  },
  {
   "cell_type": "code",
   "execution_count": 4,
   "metadata": {},
   "outputs": [
    {
     "name": "stdout",
     "output_type": "stream",
     "text": [
      "  -8.6351407087133878E-003  0.99321699724385526       0.67100000381469727     \n"
     ]
    }
   ],
   "source": [
    "run(`./fspeed_tutest`);"
   ]
  }
 ],
 "metadata": {
  "kernelspec": {
   "display_name": "Julia 1.1.0",
   "language": "julia",
   "name": "julia-1.1"
  },
  "language_info": {
   "file_extension": ".jl",
   "mimetype": "application/julia",
   "name": "julia",
   "version": "1.1.0"
  }
 },
 "nbformat": 4,
 "nbformat_minor": 2
}
