{
 "cells": [
  {
   "cell_type": "markdown",
   "metadata": {},
   "source": [
    "# Student's t-test for paired samples in Python"
   ]
  },
  {
   "cell_type": "code",
   "execution_count": 1,
   "metadata": {},
   "outputs": [],
   "source": [
    "import numpy as np\n",
    "import timeit\n",
    "import os\n",
    "import numericalrecipes as nr\n",
    "from subprocess import call, check_output\n",
    "\n",
    "\n",
    "# Compile Fortran source code (using a Python script)\n",
    "os.system('python compile_fortran.py');"
   ]
  },
  {
   "cell_type": "markdown",
   "metadata": {},
   "source": [
    "Data input:"
   ]
  },
  {
   "cell_type": "code",
   "execution_count": 2,
   "metadata": {},
   "outputs": [],
   "source": [
    "data1 = np.array([70.0, 71.0, 72.0, 73.0, 70.5])\n",
    "data2 = np.array([70.15, 71.05, 71.95, 72.85, 70.45])"
   ]
  },
  {
   "cell_type": "markdown",
   "metadata": {},
   "source": [
    "## Calling and timing the Python tptest function\n",
    "The testing functions is a simple `for loop`:"
   ]
  },
  {
   "cell_type": "code",
   "execution_count": 3,
   "metadata": {},
   "outputs": [
    {
     "name": "stdout",
     "output_type": "stream",
     "text": [
      "0.1961161351382784 0.8540797033791303\n",
      "19.9 s ± 89.5 ms per loop (mean ± std. dev. of 7 runs, 1 loop each)\n"
     ]
    }
   ],
   "source": [
    "def speed_test():\n",
    "    for i in range(1000000):\n",
    "        nr.tptest(data1, data2)\n",
    "\n",
    "t, prob = nr.tptest(data1, data2)\n",
    "\n",
    "print(t, prob)\n",
    "%timeit speed_test()"
   ]
  },
  {
   "cell_type": "markdown",
   "metadata": {},
   "source": [
    "## Calling and timing the Fortran tptest function\n",
    "The Fortran returns `t`, `prob` and the execution time (in seconds):"
   ]
  },
  {
   "cell_type": "code",
   "execution_count": 4,
   "metadata": {},
   "outputs": [
    {
     "data": {
      "text/plain": [
       "[0.1961161351382784, 0.8540797033791304, 0.5979999899864197]"
      ]
     },
     "execution_count": 4,
     "metadata": {},
     "output_type": "execute_result"
    }
   ],
   "source": [
    "fortranOutput = check_output('./fmain_tptest').decode(\"utf-8\").replace('\\n','').split(' ')\n",
    "[float(i) for i in fortranOutput if i]"
   ]
  }
 ],
 "metadata": {
  "kernelspec": {
   "display_name": "Python 3",
   "language": "python",
   "name": "python3"
  },
  "language_info": {
   "codemirror_mode": {
    "name": "ipython",
    "version": 3
   },
   "file_extension": ".py",
   "mimetype": "text/x-python",
   "name": "python",
   "nbconvert_exporter": "python",
   "pygments_lexer": "ipython3",
   "version": "3.6.8"
  }
 },
 "nbformat": 4,
 "nbformat_minor": 2
}
