{
 "cells": [
  {
   "cell_type": "markdown",
   "metadata": {},
   "source": [
    "# Logarithm of the gamma function in Julia"
   ]
  },
  {
   "cell_type": "code",
   "execution_count": 1,
   "metadata": {},
   "outputs": [],
   "source": [
    "using BenchmarkTools\n",
    "using NumericalRecipes\n",
    "\n",
    "# Compile Fortran and C++ source code\n",
    "run(`python compile_gammaln.py`);"
   ]
  },
  {
   "cell_type": "markdown",
   "metadata": {},
   "source": [
    "Data input:"
   ]
  },
  {
   "cell_type": "code",
   "execution_count": 2,
   "metadata": {},
   "outputs": [],
   "source": [
    "x = 0.25;"
   ]
  },
  {
   "cell_type": "markdown",
   "metadata": {},
   "source": [
    "## Calling and timing the Julia gammaln function\n",
    "The testing function is a simple `for loop`:"
   ]
  },
  {
   "cell_type": "code",
   "execution_count": 3,
   "metadata": {},
   "outputs": [
    {
     "name": "stdout",
     "output_type": "stream",
     "text": [
      "1.288022524694532  99.698 ms (2000000 allocations: 137.33 MiB)\n"
     ]
    }
   ],
   "source": [
    "function speed_test()\n",
    "    for i = 1:1e6\n",
    "        gl = gammaln(x)\n",
    "        end\n",
    "    end;\n",
    "\n",
    "print(gl)\n",
    "@btime speed_test()"
   ]
  },
  {
   "cell_type": "markdown",
   "metadata": {},
   "source": [
    "## Calling and timing the Fortran gammaln function\n",
    "The Fortran code returns `gammaln(0.25)` and the execution time (in seconds):"
   ]
  },
  {
   "cell_type": "code",
   "execution_count": 4,
   "metadata": {},
   "outputs": [
    {
     "name": "stdout",
     "output_type": "stream",
     "text": [
      "   1.2880225246945320        9.3999996781349182E-002\n"
     ]
    }
   ],
   "source": [
    "run(`./fspeed_gammaln`);"
   ]
  },
  {
   "cell_type": "markdown",
   "metadata": {},
   "source": [
    "## Calling and timing the C++ gammaln function\n",
    "The C++ code returns `gammaln(0.25)` and the execution time (in milliseconds):"
   ]
  },
  {
   "cell_type": "code",
   "execution_count": 5,
   "metadata": {},
   "outputs": [
    {
     "name": "stdout",
     "output_type": "stream",
     "text": [
      "1.28802 99\n"
     ]
    }
   ],
   "source": [
    "run(`./cppSpeed_gammaln`);"
   ]
  }
 ],
 "metadata": {
  "kernelspec": {
   "display_name": "Julia 1.1.0",
   "language": "julia",
   "name": "julia-1.1"
  },
  "language_info": {
   "file_extension": ".jl",
   "mimetype": "application/julia",
   "name": "julia",
   "version": "1.1.0"
  }
 },
 "nbformat": 4,
 "nbformat_minor": 2
}
