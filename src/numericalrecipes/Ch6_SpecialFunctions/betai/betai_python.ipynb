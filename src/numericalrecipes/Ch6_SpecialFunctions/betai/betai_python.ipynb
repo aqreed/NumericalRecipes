{
 "cells": [
  {
   "cell_type": "markdown",
   "metadata": {},
   "source": [
    "# Incomplete beta function in Python"
   ]
  },
  {
   "cell_type": "code",
   "execution_count": 1,
   "metadata": {},
   "outputs": [],
   "source": [
    "import timeit\n",
    "import os\n",
    "import numericalrecipes as nr\n",
    "from subprocess import check_output\n",
    "\n",
    "# Compile Fortran source code (using a Python script)\n",
    "os.system('python compile_fortran.py');"
   ]
  },
  {
   "cell_type": "markdown",
   "metadata": {},
   "source": [
    "Data input:"
   ]
  },
  {
   "cell_type": "code",
   "execution_count": 2,
   "metadata": {},
   "outputs": [],
   "source": [
    "a, b, x = 0.3, 2, 0.25"
   ]
  },
  {
   "cell_type": "markdown",
   "metadata": {},
   "source": [
    "## Calling and timing the Python betai function\n",
    "The testing function is a simple `for loop`:"
   ]
  },
  {
   "cell_type": "code",
   "execution_count": 3,
   "metadata": {},
   "outputs": [
    {
     "name": "stdout",
     "output_type": "stream",
     "text": [
      "0.8081985953430147\n",
      "9.91 s ± 135 ms per loop (mean ± std. dev. of 7 runs, 1 loop each)\n"
     ]
    }
   ],
   "source": [
    "def speed_test():\n",
    "    for i in range(1000000):\n",
    "        nr.betai(a, b, x)\n",
    "\n",
    "bti = nr.betai(a, b, x)\n",
    "\n",
    "print(bti)\n",
    "%timeit speed_test()"
   ]
  },
  {
   "cell_type": "markdown",
   "metadata": {},
   "source": [
    "## Calling and timing the Fortran betai function\n",
    "The Fortran returns `betai` and the execution time (in seconds):"
   ]
  },
  {
   "cell_type": "code",
   "execution_count": 4,
   "metadata": {},
   "outputs": [
    {
     "data": {
      "text/plain": [
       "[0.8081985878854528, 0.5019999742507935]"
      ]
     },
     "execution_count": 4,
     "metadata": {},
     "output_type": "execute_result"
    }
   ],
   "source": [
    "fortranOutput = check_output('./fspeed_betai').decode(\"utf-8\").replace('\\n','').split(' ')\n",
    "[float(i) for i in fortranOutput if i]"
   ]
  }
 ],
 "metadata": {
  "kernelspec": {
   "display_name": "Python 3",
   "language": "python",
   "name": "python3"
  },
  "language_info": {
   "codemirror_mode": {
    "name": "ipython",
    "version": 3
   },
   "file_extension": ".py",
   "mimetype": "text/x-python",
   "name": "python",
   "nbconvert_exporter": "python",
   "pygments_lexer": "ipython3",
   "version": "3.7.4"
  }
 },
 "nbformat": 4,
 "nbformat_minor": 2
}
